{
 "cells": [
  {
   "cell_type": "markdown",
   "metadata": {},
   "source": [
    "```sh\n",
    "ollama pull mxbai-embed-large\n",
    "ollama pull llama2\n",
    "ollama pull llama3.1\n",
    "```"
   ]
  },
  {
   "cell_type": "code",
   "execution_count": 7,
   "metadata": {},
   "outputs": [],
   "source": [
    "import requests\n",
    "url     = 'https://notre-chile-christine-affecting.trycloudflare.com'\n",
    "headers = {}\n",
    "payload = { 'name' : 'gemma:2b' }\n",
    "res = requests.post(url + '/api/pull', json=payload, headers=headers)\n",
    "payload = { 'name' : 'mxbai-embed-large' }\n",
    "res = requests.post(url + '/api/pull', json=payload, headers=headers)\n",
    "payload = { 'name' : 'llama2' }\n",
    "res = requests.post(url + '/api/pull', json=payload, headers=headers)\n",
    "payload = { 'name' : 'llama3.1' }\n",
    "res = requests.post(url + '/api/pull', json=payload, headers=headers)"
   ]
  },
  {
   "cell_type": "code",
   "execution_count": 10,
   "metadata": {},
   "outputs": [
    {
     "name": "stdout",
     "output_type": "stream",
     "text": [
      "env: OLLAMA_HOST=https://notre-chile-christine-affecting.trycloudflare.com\n"
     ]
    },
    {
     "data": {
      "text/plain": [
       "'https://notre-chile-christine-affecting.trycloudflare.com'"
      ]
     },
     "execution_count": 10,
     "metadata": {},
     "output_type": "execute_result"
    }
   ],
   "source": [
    "%env OLLAMA_HOST=https://notre-chile-christine-affecting.trycloudflare.com\n",
    "%env OLLAMA_HOST"
   ]
  },
  {
   "cell_type": "code",
   "execution_count": 12,
   "metadata": {},
   "outputs": [
    {
     "name": "stdout",
     "output_type": "stream",
     "text": [
      "Defaulting to user installation because normal site-packages is not writeable\n",
      "Requirement already satisfied: ollama in /workspace/.pyenv_mirror/user/current/lib/python3.10/site-packages (0.3.3)\n",
      "Requirement already satisfied: chromadb in /workspace/.pyenv_mirror/user/current/lib/python3.10/site-packages (0.5.15)\n",
      "Requirement already satisfied: httpx<0.28.0,>=0.27.0 in /workspace/.pyenv_mirror/user/current/lib/python3.10/site-packages (from ollama) (0.27.2)\n",
      "Requirement already satisfied: onnxruntime>=1.14.1 in /workspace/.pyenv_mirror/user/current/lib/python3.10/site-packages (from chromadb) (1.19.2)\n",
      "Requirement already satisfied: build>=1.0.3 in /workspace/.pyenv_mirror/user/current/lib/python3.10/site-packages (from chromadb) (1.2.2.post1)\n",
      "Requirement already satisfied: importlib-resources in /workspace/.pyenv_mirror/user/current/lib/python3.10/site-packages (from chromadb) (6.4.5)\n",
      "Requirement already satisfied: tqdm>=4.65.0 in /workspace/.pyenv_mirror/user/current/lib/python3.10/site-packages (from chromadb) (4.66.5)\n",
      "Requirement already satisfied: typing-extensions>=4.5.0 in /workspace/.pyenv_mirror/user/current/lib/python3.10/site-packages (from chromadb) (4.12.2)\n",
      "Requirement already satisfied: grpcio>=1.58.0 in /workspace/.pyenv_mirror/user/current/lib/python3.10/site-packages (from chromadb) (1.67.0)\n",
      "Requirement already satisfied: typer>=0.9.0 in /workspace/.pyenv_mirror/user/current/lib/python3.10/site-packages (from chromadb) (0.12.5)\n",
      "Requirement already satisfied: opentelemetry-instrumentation-fastapi>=0.41b0 in /workspace/.pyenv_mirror/user/current/lib/python3.10/site-packages (from chromadb) (0.48b0)\n",
      "Requirement already satisfied: uvicorn[standard]>=0.18.3 in /workspace/.pyenv_mirror/user/current/lib/python3.10/site-packages (from chromadb) (0.32.0)\n",
      "Requirement already satisfied: numpy>=1.22.5 in /workspace/.pyenv_mirror/user/current/lib/python3.10/site-packages (from chromadb) (1.26.4)\n",
      "Requirement already satisfied: pydantic>=1.9 in /workspace/.pyenv_mirror/user/current/lib/python3.10/site-packages (from chromadb) (2.9.2)\n",
      "Requirement already satisfied: pypika>=0.48.9 in /workspace/.pyenv_mirror/user/current/lib/python3.10/site-packages (from chromadb) (0.48.9)\n",
      "Requirement already satisfied: tokenizers>=0.13.2 in /workspace/.pyenv_mirror/user/current/lib/python3.10/site-packages (from chromadb) (0.20.1)\n",
      "Requirement already satisfied: overrides>=7.3.1 in /workspace/.pyenv_mirror/user/current/lib/python3.10/site-packages (from chromadb) (7.7.0)\n",
      "Requirement already satisfied: opentelemetry-sdk>=1.2.0 in /workspace/.pyenv_mirror/user/current/lib/python3.10/site-packages (from chromadb) (1.27.0)\n",
      "Requirement already satisfied: kubernetes>=28.1.0 in /workspace/.pyenv_mirror/user/current/lib/python3.10/site-packages (from chromadb) (31.0.0)\n",
      "Requirement already satisfied: mmh3>=4.0.1 in /workspace/.pyenv_mirror/user/current/lib/python3.10/site-packages (from chromadb) (5.0.1)\n",
      "Requirement already satisfied: chroma-hnswlib==0.7.6 in /workspace/.pyenv_mirror/user/current/lib/python3.10/site-packages (from chromadb) (0.7.6)\n",
      "Requirement already satisfied: orjson>=3.9.12 in /workspace/.pyenv_mirror/user/current/lib/python3.10/site-packages (from chromadb) (3.10.10)\n",
      "Requirement already satisfied: posthog>=2.4.0 in /workspace/.pyenv_mirror/user/current/lib/python3.10/site-packages (from chromadb) (3.7.0)\n",
      "Requirement already satisfied: tenacity>=8.2.3 in /workspace/.pyenv_mirror/user/current/lib/python3.10/site-packages (from chromadb) (9.0.0)\n",
      "Requirement already satisfied: PyYAML>=6.0.0 in /workspace/.pyenv_mirror/user/current/lib/python3.10/site-packages (from chromadb) (6.0.2)\n",
      "Requirement already satisfied: bcrypt>=4.0.1 in /workspace/.pyenv_mirror/user/current/lib/python3.10/site-packages (from chromadb) (4.2.0)\n",
      "Requirement already satisfied: fastapi>=0.95.2 in /workspace/.pyenv_mirror/user/current/lib/python3.10/site-packages (from chromadb) (0.115.3)\n",
      "Requirement already satisfied: opentelemetry-exporter-otlp-proto-grpc>=1.2.0 in /workspace/.pyenv_mirror/user/current/lib/python3.10/site-packages (from chromadb) (1.27.0)\n",
      "Requirement already satisfied: rich>=10.11.0 in /workspace/.pyenv_mirror/user/current/lib/python3.10/site-packages (from chromadb) (13.9.3)\n",
      "Requirement already satisfied: opentelemetry-api>=1.2.0 in /workspace/.pyenv_mirror/user/current/lib/python3.10/site-packages (from chromadb) (1.27.0)\n",
      "Requirement already satisfied: tomli>=1.1.0 in /workspace/.pyenv_mirror/user/current/lib/python3.10/site-packages (from build>=1.0.3->chromadb) (2.0.2)\n",
      "Requirement already satisfied: packaging>=19.1 in /workspace/.pyenv_mirror/user/current/lib/python3.10/site-packages (from build>=1.0.3->chromadb) (24.1)\n",
      "Requirement already satisfied: pyproject_hooks in /workspace/.pyenv_mirror/user/current/lib/python3.10/site-packages (from build>=1.0.3->chromadb) (1.2.0)\n",
      "Requirement already satisfied: starlette<0.42.0,>=0.40.0 in /workspace/.pyenv_mirror/user/current/lib/python3.10/site-packages (from fastapi>=0.95.2->chromadb) (0.41.0)\n",
      "Requirement already satisfied: sniffio in /workspace/.pyenv_mirror/user/current/lib/python3.10/site-packages (from httpx<0.28.0,>=0.27.0->ollama) (1.3.1)\n",
      "Requirement already satisfied: httpcore==1.* in /workspace/.pyenv_mirror/user/current/lib/python3.10/site-packages (from httpx<0.28.0,>=0.27.0->ollama) (1.0.6)\n",
      "Requirement already satisfied: certifi in /workspace/.pyenv_mirror/user/current/lib/python3.10/site-packages (from httpx<0.28.0,>=0.27.0->ollama) (2024.8.30)\n",
      "Requirement already satisfied: idna in /workspace/.pyenv_mirror/user/current/lib/python3.10/site-packages (from httpx<0.28.0,>=0.27.0->ollama) (3.10)\n",
      "Requirement already satisfied: anyio in /workspace/.pyenv_mirror/user/current/lib/python3.10/site-packages (from httpx<0.28.0,>=0.27.0->ollama) (4.6.2.post1)\n",
      "Requirement already satisfied: h11<0.15,>=0.13 in /workspace/.pyenv_mirror/user/current/lib/python3.10/site-packages (from httpcore==1.*->httpx<0.28.0,>=0.27.0->ollama) (0.14.0)\n",
      "Requirement already satisfied: durationpy>=0.7 in /workspace/.pyenv_mirror/user/current/lib/python3.10/site-packages (from kubernetes>=28.1.0->chromadb) (0.9)\n",
      "Requirement already satisfied: google-auth>=1.0.1 in /workspace/.pyenv_mirror/user/current/lib/python3.10/site-packages (from kubernetes>=28.1.0->chromadb) (2.35.0)\n",
      "Requirement already satisfied: requests in /workspace/.pyenv_mirror/user/current/lib/python3.10/site-packages (from kubernetes>=28.1.0->chromadb) (2.32.3)\n",
      "Requirement already satisfied: six>=1.9.0 in /usr/lib/python3/dist-packages (from kubernetes>=28.1.0->chromadb) (1.16.0)\n",
      "Requirement already satisfied: oauthlib>=3.2.2 in /workspace/.pyenv_mirror/user/current/lib/python3.10/site-packages (from kubernetes>=28.1.0->chromadb) (3.2.2)\n",
      "Requirement already satisfied: urllib3>=1.24.2 in /workspace/.pyenv_mirror/user/current/lib/python3.10/site-packages (from kubernetes>=28.1.0->chromadb) (2.2.3)\n",
      "Requirement already satisfied: requests-oauthlib in /workspace/.pyenv_mirror/user/current/lib/python3.10/site-packages (from kubernetes>=28.1.0->chromadb) (2.0.0)\n",
      "Requirement already satisfied: python-dateutil>=2.5.3 in /workspace/.pyenv_mirror/user/current/lib/python3.10/site-packages (from kubernetes>=28.1.0->chromadb) (2.9.0.post0)\n",
      "Requirement already satisfied: websocket-client!=0.40.0,!=0.41.*,!=0.42.*,>=0.32.0 in /workspace/.pyenv_mirror/user/current/lib/python3.10/site-packages (from kubernetes>=28.1.0->chromadb) (1.8.0)\n",
      "Requirement already satisfied: protobuf in /workspace/.pyenv_mirror/user/current/lib/python3.10/site-packages (from onnxruntime>=1.14.1->chromadb) (4.25.5)\n",
      "Requirement already satisfied: sympy in /workspace/.pyenv_mirror/user/current/lib/python3.10/site-packages (from onnxruntime>=1.14.1->chromadb) (1.13.3)\n",
      "Requirement already satisfied: flatbuffers in /workspace/.pyenv_mirror/user/current/lib/python3.10/site-packages (from onnxruntime>=1.14.1->chromadb) (24.3.25)\n",
      "Requirement already satisfied: coloredlogs in /workspace/.pyenv_mirror/user/current/lib/python3.10/site-packages (from onnxruntime>=1.14.1->chromadb) (15.0.1)\n",
      "Requirement already satisfied: deprecated>=1.2.6 in /workspace/.pyenv_mirror/user/current/lib/python3.10/site-packages (from opentelemetry-api>=1.2.0->chromadb) (1.2.14)\n",
      "Requirement already satisfied: importlib-metadata<=8.4.0,>=6.0 in /workspace/.pyenv_mirror/user/current/lib/python3.10/site-packages (from opentelemetry-api>=1.2.0->chromadb) (8.4.0)\n",
      "Requirement already satisfied: opentelemetry-exporter-otlp-proto-common==1.27.0 in /workspace/.pyenv_mirror/user/current/lib/python3.10/site-packages (from opentelemetry-exporter-otlp-proto-grpc>=1.2.0->chromadb) (1.27.0)\n",
      "Requirement already satisfied: googleapis-common-protos~=1.52 in /workspace/.pyenv_mirror/user/current/lib/python3.10/site-packages (from opentelemetry-exporter-otlp-proto-grpc>=1.2.0->chromadb) (1.65.0)\n",
      "Requirement already satisfied: opentelemetry-proto==1.27.0 in /workspace/.pyenv_mirror/user/current/lib/python3.10/site-packages (from opentelemetry-exporter-otlp-proto-grpc>=1.2.0->chromadb) (1.27.0)\n",
      "Requirement already satisfied: opentelemetry-instrumentation==0.48b0 in /workspace/.pyenv_mirror/user/current/lib/python3.10/site-packages (from opentelemetry-instrumentation-fastapi>=0.41b0->chromadb) (0.48b0)\n",
      "Requirement already satisfied: opentelemetry-instrumentation-asgi==0.48b0 in /workspace/.pyenv_mirror/user/current/lib/python3.10/site-packages (from opentelemetry-instrumentation-fastapi>=0.41b0->chromadb) (0.48b0)\n",
      "Requirement already satisfied: opentelemetry-util-http==0.48b0 in /workspace/.pyenv_mirror/user/current/lib/python3.10/site-packages (from opentelemetry-instrumentation-fastapi>=0.41b0->chromadb) (0.48b0)\n",
      "Requirement already satisfied: opentelemetry-semantic-conventions==0.48b0 in /workspace/.pyenv_mirror/user/current/lib/python3.10/site-packages (from opentelemetry-instrumentation-fastapi>=0.41b0->chromadb) (0.48b0)\n",
      "Requirement already satisfied: setuptools>=16.0 in /usr/lib/python3/dist-packages (from opentelemetry-instrumentation==0.48b0->opentelemetry-instrumentation-fastapi>=0.41b0->chromadb) (59.6.0)\n",
      "Requirement already satisfied: wrapt<2.0.0,>=1.0.0 in /workspace/.pyenv_mirror/user/current/lib/python3.10/site-packages (from opentelemetry-instrumentation==0.48b0->opentelemetry-instrumentation-fastapi>=0.41b0->chromadb) (1.16.0)\n",
      "Requirement already satisfied: asgiref~=3.0 in /workspace/.pyenv_mirror/user/current/lib/python3.10/site-packages (from opentelemetry-instrumentation-asgi==0.48b0->opentelemetry-instrumentation-fastapi>=0.41b0->chromadb) (3.8.1)\n",
      "Requirement already satisfied: backoff>=1.10.0 in /workspace/.pyenv_mirror/user/current/lib/python3.10/site-packages (from posthog>=2.4.0->chromadb) (2.2.1)\n",
      "Requirement already satisfied: monotonic>=1.5 in /workspace/.pyenv_mirror/user/current/lib/python3.10/site-packages (from posthog>=2.4.0->chromadb) (1.6)\n",
      "Requirement already satisfied: annotated-types>=0.6.0 in /workspace/.pyenv_mirror/user/current/lib/python3.10/site-packages (from pydantic>=1.9->chromadb) (0.7.0)\n",
      "Requirement already satisfied: pydantic-core==2.23.4 in /workspace/.pyenv_mirror/user/current/lib/python3.10/site-packages (from pydantic>=1.9->chromadb) (2.23.4)\n",
      "Requirement already satisfied: markdown-it-py>=2.2.0 in /workspace/.pyenv_mirror/user/current/lib/python3.10/site-packages (from rich>=10.11.0->chromadb) (3.0.0)\n",
      "Requirement already satisfied: pygments<3.0.0,>=2.13.0 in /workspace/.pyenv_mirror/user/current/lib/python3.10/site-packages (from rich>=10.11.0->chromadb) (2.18.0)\n",
      "Requirement already satisfied: huggingface-hub<1.0,>=0.16.4 in /workspace/.pyenv_mirror/user/current/lib/python3.10/site-packages (from tokenizers>=0.13.2->chromadb) (0.26.1)\n",
      "Requirement already satisfied: shellingham>=1.3.0 in /workspace/.pyenv_mirror/user/current/lib/python3.10/site-packages (from typer>=0.9.0->chromadb) (1.5.4)\n",
      "Requirement already satisfied: click>=8.0.0 in /workspace/.pyenv_mirror/user/current/lib/python3.10/site-packages (from typer>=0.9.0->chromadb) (8.1.7)\n",
      "Requirement already satisfied: watchfiles>=0.13 in /workspace/.pyenv_mirror/user/current/lib/python3.10/site-packages (from uvicorn[standard]>=0.18.3->chromadb) (0.24.0)\n",
      "Requirement already satisfied: uvloop!=0.15.0,!=0.15.1,>=0.14.0 in /workspace/.pyenv_mirror/user/current/lib/python3.10/site-packages (from uvicorn[standard]>=0.18.3->chromadb) (0.21.0)\n",
      "Requirement already satisfied: websockets>=10.4 in /workspace/.pyenv_mirror/user/current/lib/python3.10/site-packages (from uvicorn[standard]>=0.18.3->chromadb) (13.1)\n",
      "Requirement already satisfied: httptools>=0.5.0 in /workspace/.pyenv_mirror/user/current/lib/python3.10/site-packages (from uvicorn[standard]>=0.18.3->chromadb) (0.6.4)\n",
      "Requirement already satisfied: python-dotenv>=0.13 in /workspace/.pyenv_mirror/user/current/lib/python3.10/site-packages (from uvicorn[standard]>=0.18.3->chromadb) (1.0.1)\n",
      "Requirement already satisfied: cachetools<6.0,>=2.0.0 in /workspace/.pyenv_mirror/user/current/lib/python3.10/site-packages (from google-auth>=1.0.1->kubernetes>=28.1.0->chromadb) (5.5.0)\n",
      "Requirement already satisfied: pyasn1-modules>=0.2.1 in /workspace/.pyenv_mirror/user/current/lib/python3.10/site-packages (from google-auth>=1.0.1->kubernetes>=28.1.0->chromadb) (0.4.1)\n",
      "Requirement already satisfied: rsa<5,>=3.1.4 in /workspace/.pyenv_mirror/user/current/lib/python3.10/site-packages (from google-auth>=1.0.1->kubernetes>=28.1.0->chromadb) (4.9)\n",
      "Requirement already satisfied: filelock in /workspace/.pyenv_mirror/user/current/lib/python3.10/site-packages (from huggingface-hub<1.0,>=0.16.4->tokenizers>=0.13.2->chromadb) (3.16.1)\n",
      "Requirement already satisfied: fsspec>=2023.5.0 in /workspace/.pyenv_mirror/user/current/lib/python3.10/site-packages (from huggingface-hub<1.0,>=0.16.4->tokenizers>=0.13.2->chromadb) (2024.10.0)\n",
      "Requirement already satisfied: zipp>=0.5 in /usr/lib/python3/dist-packages (from importlib-metadata<=8.4.0,>=6.0->opentelemetry-api>=1.2.0->chromadb) (1.0.0)\n",
      "Requirement already satisfied: mdurl~=0.1 in /workspace/.pyenv_mirror/user/current/lib/python3.10/site-packages (from markdown-it-py>=2.2.0->rich>=10.11.0->chromadb) (0.1.2)\n",
      "Requirement already satisfied: charset-normalizer<4,>=2 in /workspace/.pyenv_mirror/user/current/lib/python3.10/site-packages (from requests->kubernetes>=28.1.0->chromadb) (3.4.0)\n",
      "Requirement already satisfied: exceptiongroup>=1.0.2 in /workspace/.pyenv_mirror/user/current/lib/python3.10/site-packages (from anyio->httpx<0.28.0,>=0.27.0->ollama) (1.2.2)\n",
      "Requirement already satisfied: humanfriendly>=9.1 in /workspace/.pyenv_mirror/user/current/lib/python3.10/site-packages (from coloredlogs->onnxruntime>=1.14.1->chromadb) (10.0)\n",
      "Requirement already satisfied: mpmath<1.4,>=1.1.0 in /workspace/.pyenv_mirror/user/current/lib/python3.10/site-packages (from sympy->onnxruntime>=1.14.1->chromadb) (1.3.0)\n",
      "Requirement already satisfied: pyasn1<0.7.0,>=0.4.6 in /workspace/.pyenv_mirror/user/current/lib/python3.10/site-packages (from pyasn1-modules>=0.2.1->google-auth>=1.0.1->kubernetes>=28.1.0->chromadb) (0.6.1)\n",
      "Note: you may need to restart the kernel to use updated packages.\n"
     ]
    }
   ],
   "source": [
    "%pip install ollama chromadb"
   ]
  },
  {
   "cell_type": "code",
   "execution_count": 18,
   "metadata": {},
   "outputs": [
    {
     "name": "stdout",
     "output_type": "stream",
     "text": [
      "Llamas are members of the camelid family meaning they're pretty closely related to vicuñas and camels\n",
      "\n",
      "Llamas are related to several other animals within the camelid family. Specifically, they are most closely related to vicuñas and camels. Both vicuñas and camels are also members of the camelid family, and share many physical and behavioral characteristics with llamas. These include:\n",
      "\n",
      "* A distinctive set of teeth, with a flat upper surface and a curved lower surface\n",
      "* Long eyelashes and ear hairs\n",
      "* A thick, woolly coat that can be used for insulation in cold climates\n",
      "* The ability to go without water for long periods of time, allowing them to survive in arid environments\n",
      "* A unique digestive system that allows them to extract moisture from plants more efficiently than other mammals.\n",
      "\n",
      "In addition to their close relationship with vicuñas and camels, llamas are also distantly related to alpacas, which are also members of the camelid family. While llamas and alpacas share some similarities in terms of their physical characteristics and behavior, they are distinct species with some key differences.\n"
     ]
    }
   ],
   "source": [
    "import ollama\n",
    "import chromadb\n",
    "\n",
    "\n",
    "\n",
    "documents = [\n",
    "  \"Llamas are members of the camelid family meaning they're pretty closely related to vicuñas and camels\",\n",
    "  \"Llamas were first domesticated and used as pack animals 4,000 to 5,000 years ago in the Peruvian highlands\",\n",
    "  \"Llamas can grow as much as 6 feet tall though the average llama between 5 feet 6 inches and 5 feet 9 inches tall\",\n",
    "  \"Llamas weigh between 280 and 450 pounds and can carry 25 to 30 percent of their body weight\",\n",
    "  \"Llamas are vegetarians and have very efficient digestive systems\",\n",
    "  \"Llamas live to be about 20 years old, though some only live for 15 years and others live to be 30 years old\",\n",
    "]\n",
    "\n",
    "client = chromadb.Client()\n",
    "collections = client.list_collections()\n",
    "if len(collections) > 0:\n",
    "  collection = client.delete_collection(name=\"docs\")\n",
    "collection = client.create_collection(name=\"docs\")\n",
    "\n",
    "# store each document in a vector embedding database\n",
    "for i, d in enumerate(documents):\n",
    "  response = ollama.embeddings(model=\"mxbai-embed-large\", prompt=d)\n",
    "  embedding = response[\"embedding\"]\n",
    "  collection.add(\n",
    "    ids=[str(i)],\n",
    "    embeddings=[embedding],\n",
    "    documents=[d]\n",
    "  )\n",
    "\n",
    "\n",
    "# an example prompt\n",
    "prompt = \"What animals are llamas related to?\"\n",
    "\n",
    "# generate an embedding for the prompt and retrieve the most relevant doc\n",
    "response = ollama.embeddings(\n",
    "  prompt=prompt,\n",
    "  model=\"mxbai-embed-large\"\n",
    ")\n",
    "results = collection.query(\n",
    "  query_embeddings=[response[\"embedding\"]],\n",
    "  n_results=1\n",
    ")\n",
    "data = results['documents'][0][0]\n",
    "\n",
    "print(data)\n",
    "\n",
    "# generate a response combining the prompt and data we retrieved in step 2\n",
    "output = ollama.generate(\n",
    "  model=\"llama2\",\n",
    "  prompt=f\"Using this data: {data}. Respond to this prompt: {prompt}\"\n",
    ")\n",
    "\n",
    "print(output['response'])"
   ]
  },
  {
   "cell_type": "code",
   "execution_count": 19,
   "metadata": {},
   "outputs": [
    {
     "name": "stdout",
     "output_type": "stream",
     "text": [
      "Defaulting to user installation because normal site-packages is not writeable\n",
      "Requirement already satisfied: langchain in /workspace/.pyenv_mirror/user/current/lib/python3.10/site-packages (0.3.4)\n",
      "Requirement already satisfied: langchain_community in /workspace/.pyenv_mirror/user/current/lib/python3.10/site-packages (0.3.3)\n",
      "Requirement already satisfied: langchain-openai in /workspace/.pyenv_mirror/user/current/lib/python3.10/site-packages (0.2.3)\n",
      "Requirement already satisfied: scikit-learn in /workspace/.pyenv_mirror/user/current/lib/python3.10/site-packages (1.5.2)\n",
      "Requirement already satisfied: langchain-ollama in /workspace/.pyenv_mirror/user/current/lib/python3.10/site-packages (0.2.0)\n",
      "Requirement already satisfied: PyYAML>=5.3 in /workspace/.pyenv_mirror/user/current/lib/python3.10/site-packages (from langchain) (6.0.2)\n",
      "Requirement already satisfied: aiohttp<4.0.0,>=3.8.3 in /workspace/.pyenv_mirror/user/current/lib/python3.10/site-packages (from langchain) (3.10.10)\n",
      "Requirement already satisfied: numpy<2,>=1 in /workspace/.pyenv_mirror/user/current/lib/python3.10/site-packages (from langchain) (1.26.4)\n",
      "Requirement already satisfied: langchain-core<0.4.0,>=0.3.12 in /workspace/.pyenv_mirror/user/current/lib/python3.10/site-packages (from langchain) (0.3.12)\n",
      "Requirement already satisfied: langchain-text-splitters<0.4.0,>=0.3.0 in /workspace/.pyenv_mirror/user/current/lib/python3.10/site-packages (from langchain) (0.3.0)\n",
      "Requirement already satisfied: requests<3,>=2 in /workspace/.pyenv_mirror/user/current/lib/python3.10/site-packages (from langchain) (2.32.3)\n",
      "Requirement already satisfied: async-timeout<5.0.0,>=4.0.0 in /workspace/.pyenv_mirror/user/current/lib/python3.10/site-packages (from langchain) (4.0.3)\n",
      "Requirement already satisfied: pydantic<3.0.0,>=2.7.4 in /workspace/.pyenv_mirror/user/current/lib/python3.10/site-packages (from langchain) (2.9.2)\n",
      "Requirement already satisfied: tenacity!=8.4.0,<10,>=8.1.0 in /workspace/.pyenv_mirror/user/current/lib/python3.10/site-packages (from langchain) (9.0.0)\n",
      "Requirement already satisfied: SQLAlchemy<3,>=1.4 in /workspace/.pyenv_mirror/user/current/lib/python3.10/site-packages (from langchain) (2.0.36)\n",
      "Requirement already satisfied: langsmith<0.2.0,>=0.1.17 in /workspace/.pyenv_mirror/user/current/lib/python3.10/site-packages (from langchain) (0.1.137)\n",
      "Requirement already satisfied: pydantic-settings<3.0.0,>=2.4.0 in /workspace/.pyenv_mirror/user/current/lib/python3.10/site-packages (from langchain_community) (2.6.0)\n",
      "Requirement already satisfied: dataclasses-json<0.7,>=0.5.7 in /workspace/.pyenv_mirror/user/current/lib/python3.10/site-packages (from langchain_community) (0.6.7)\n",
      "Requirement already satisfied: tiktoken<1,>=0.7 in /workspace/.pyenv_mirror/user/current/lib/python3.10/site-packages (from langchain-openai) (0.8.0)\n",
      "Requirement already satisfied: openai<2.0.0,>=1.52.0 in /workspace/.pyenv_mirror/user/current/lib/python3.10/site-packages (from langchain-openai) (1.52.2)\n",
      "Requirement already satisfied: scipy>=1.6.0 in /workspace/.pyenv_mirror/user/current/lib/python3.10/site-packages (from scikit-learn) (1.14.1)\n",
      "Requirement already satisfied: threadpoolctl>=3.1.0 in /workspace/.pyenv_mirror/user/current/lib/python3.10/site-packages (from scikit-learn) (3.5.0)\n",
      "Requirement already satisfied: joblib>=1.2.0 in /workspace/.pyenv_mirror/user/current/lib/python3.10/site-packages (from scikit-learn) (1.4.2)\n",
      "Requirement already satisfied: ollama<1,>=0.3.0 in /workspace/.pyenv_mirror/user/current/lib/python3.10/site-packages (from langchain-ollama) (0.3.3)\n",
      "Requirement already satisfied: multidict<7.0,>=4.5 in /workspace/.pyenv_mirror/user/current/lib/python3.10/site-packages (from aiohttp<4.0.0,>=3.8.3->langchain) (6.1.0)\n",
      "Requirement already satisfied: aiohappyeyeballs>=2.3.0 in /workspace/.pyenv_mirror/user/current/lib/python3.10/site-packages (from aiohttp<4.0.0,>=3.8.3->langchain) (2.4.3)\n",
      "Requirement already satisfied: yarl<2.0,>=1.12.0 in /workspace/.pyenv_mirror/user/current/lib/python3.10/site-packages (from aiohttp<4.0.0,>=3.8.3->langchain) (1.16.0)\n",
      "Requirement already satisfied: frozenlist>=1.1.1 in /workspace/.pyenv_mirror/user/current/lib/python3.10/site-packages (from aiohttp<4.0.0,>=3.8.3->langchain) (1.5.0)\n",
      "Requirement already satisfied: attrs>=17.3.0 in /workspace/.pyenv_mirror/user/current/lib/python3.10/site-packages (from aiohttp<4.0.0,>=3.8.3->langchain) (24.2.0)\n",
      "Requirement already satisfied: aiosignal>=1.1.2 in /workspace/.pyenv_mirror/user/current/lib/python3.10/site-packages (from aiohttp<4.0.0,>=3.8.3->langchain) (1.3.1)\n",
      "Requirement already satisfied: marshmallow<4.0.0,>=3.18.0 in /workspace/.pyenv_mirror/user/current/lib/python3.10/site-packages (from dataclasses-json<0.7,>=0.5.7->langchain_community) (3.23.0)\n",
      "Requirement already satisfied: typing-inspect<1,>=0.4.0 in /workspace/.pyenv_mirror/user/current/lib/python3.10/site-packages (from dataclasses-json<0.7,>=0.5.7->langchain_community) (0.9.0)\n",
      "Requirement already satisfied: packaging<25,>=23.2 in /workspace/.pyenv_mirror/user/current/lib/python3.10/site-packages (from langchain-core<0.4.0,>=0.3.12->langchain) (24.1)\n",
      "Requirement already satisfied: jsonpatch<2.0,>=1.33 in /workspace/.pyenv_mirror/user/current/lib/python3.10/site-packages (from langchain-core<0.4.0,>=0.3.12->langchain) (1.33)\n",
      "Requirement already satisfied: typing-extensions>=4.7 in /workspace/.pyenv_mirror/user/current/lib/python3.10/site-packages (from langchain-core<0.4.0,>=0.3.12->langchain) (4.12.2)\n",
      "Requirement already satisfied: requests-toolbelt<2.0.0,>=1.0.0 in /workspace/.pyenv_mirror/user/current/lib/python3.10/site-packages (from langsmith<0.2.0,>=0.1.17->langchain) (1.0.0)\n",
      "Requirement already satisfied: httpx<1,>=0.23.0 in /workspace/.pyenv_mirror/user/current/lib/python3.10/site-packages (from langsmith<0.2.0,>=0.1.17->langchain) (0.27.2)\n",
      "Requirement already satisfied: orjson<4.0.0,>=3.9.14 in /workspace/.pyenv_mirror/user/current/lib/python3.10/site-packages (from langsmith<0.2.0,>=0.1.17->langchain) (3.10.10)\n",
      "Requirement already satisfied: sniffio in /workspace/.pyenv_mirror/user/current/lib/python3.10/site-packages (from openai<2.0.0,>=1.52.0->langchain-openai) (1.3.1)\n",
      "Requirement already satisfied: anyio<5,>=3.5.0 in /workspace/.pyenv_mirror/user/current/lib/python3.10/site-packages (from openai<2.0.0,>=1.52.0->langchain-openai) (4.6.2.post1)\n",
      "Requirement already satisfied: distro<2,>=1.7.0 in /usr/lib/python3/dist-packages (from openai<2.0.0,>=1.52.0->langchain-openai) (1.7.0)\n",
      "Requirement already satisfied: tqdm>4 in /workspace/.pyenv_mirror/user/current/lib/python3.10/site-packages (from openai<2.0.0,>=1.52.0->langchain-openai) (4.66.5)\n",
      "Requirement already satisfied: jiter<1,>=0.4.0 in /workspace/.pyenv_mirror/user/current/lib/python3.10/site-packages (from openai<2.0.0,>=1.52.0->langchain-openai) (0.6.1)\n",
      "Requirement already satisfied: annotated-types>=0.6.0 in /workspace/.pyenv_mirror/user/current/lib/python3.10/site-packages (from pydantic<3.0.0,>=2.7.4->langchain) (0.7.0)\n",
      "Requirement already satisfied: pydantic-core==2.23.4 in /workspace/.pyenv_mirror/user/current/lib/python3.10/site-packages (from pydantic<3.0.0,>=2.7.4->langchain) (2.23.4)\n",
      "Requirement already satisfied: python-dotenv>=0.21.0 in /workspace/.pyenv_mirror/user/current/lib/python3.10/site-packages (from pydantic-settings<3.0.0,>=2.4.0->langchain_community) (1.0.1)\n",
      "Requirement already satisfied: charset-normalizer<4,>=2 in /workspace/.pyenv_mirror/user/current/lib/python3.10/site-packages (from requests<3,>=2->langchain) (3.4.0)\n",
      "Requirement already satisfied: certifi>=2017.4.17 in /workspace/.pyenv_mirror/user/current/lib/python3.10/site-packages (from requests<3,>=2->langchain) (2024.8.30)\n",
      "Requirement already satisfied: urllib3<3,>=1.21.1 in /workspace/.pyenv_mirror/user/current/lib/python3.10/site-packages (from requests<3,>=2->langchain) (2.2.3)\n",
      "Requirement already satisfied: idna<4,>=2.5 in /workspace/.pyenv_mirror/user/current/lib/python3.10/site-packages (from requests<3,>=2->langchain) (3.10)\n",
      "Requirement already satisfied: greenlet!=0.4.17 in /workspace/.pyenv_mirror/user/current/lib/python3.10/site-packages (from SQLAlchemy<3,>=1.4->langchain) (3.1.1)\n",
      "Requirement already satisfied: regex>=2022.1.18 in /workspace/.pyenv_mirror/user/current/lib/python3.10/site-packages (from tiktoken<1,>=0.7->langchain-openai) (2024.9.11)\n",
      "Requirement already satisfied: exceptiongroup>=1.0.2 in /workspace/.pyenv_mirror/user/current/lib/python3.10/site-packages (from anyio<5,>=3.5.0->openai<2.0.0,>=1.52.0->langchain-openai) (1.2.2)\n",
      "Requirement already satisfied: httpcore==1.* in /workspace/.pyenv_mirror/user/current/lib/python3.10/site-packages (from httpx<1,>=0.23.0->langsmith<0.2.0,>=0.1.17->langchain) (1.0.6)\n",
      "Requirement already satisfied: h11<0.15,>=0.13 in /workspace/.pyenv_mirror/user/current/lib/python3.10/site-packages (from httpcore==1.*->httpx<1,>=0.23.0->langsmith<0.2.0,>=0.1.17->langchain) (0.14.0)\n",
      "Requirement already satisfied: jsonpointer>=1.9 in /workspace/.pyenv_mirror/user/current/lib/python3.10/site-packages (from jsonpatch<2.0,>=1.33->langchain-core<0.4.0,>=0.3.12->langchain) (3.0.0)\n",
      "Requirement already satisfied: mypy-extensions>=0.3.0 in /workspace/.pyenv_mirror/user/current/lib/python3.10/site-packages (from typing-inspect<1,>=0.4.0->dataclasses-json<0.7,>=0.5.7->langchain_community) (1.0.0)\n",
      "Requirement already satisfied: propcache>=0.2.0 in /workspace/.pyenv_mirror/user/current/lib/python3.10/site-packages (from yarl<2.0,>=1.12.0->aiohttp<4.0.0,>=3.8.3->langchain) (0.2.0)\n",
      "Note: you may need to restart the kernel to use updated packages.\n"
     ]
    }
   ],
   "source": [
    "%pip install langchain langchain_community langchain-openai scikit-learn langchain-ollama"
   ]
  },
  {
   "cell_type": "code",
   "execution_count": 20,
   "metadata": {},
   "outputs": [
    {
     "name": "stderr",
     "output_type": "stream",
     "text": [
      "/tmp/ipykernel_1419/86062808.py:12: LangChainDeprecationWarning: The class `Ollama` was deprecated in LangChain 0.3.1 and will be removed in 1.0.0. An updated version of the class exists in the :class:`~langchain-ollama package and should be used instead. To use it run `pip install -U :class:`~langchain-ollama` and import as `from :class:`~langchain_ollama import OllamaLLM``.\n",
      "  llm = Ollama(model=\"llama3.1\", base_url=\"https://notre-chile-christine-affecting.trycloudflare.com\")\n",
      "/tmp/ipykernel_1419/86062808.py:14: LangChainDeprecationWarning: The class `OllamaEmbeddings` was deprecated in LangChain 0.3.1 and will be removed in 1.0.0. An updated version of the class exists in the :class:`~langchain-ollama package and should be used instead. To use it run `pip install -U :class:`~langchain-ollama` and import as `from :class:`~langchain_ollama import OllamaEmbeddings``.\n",
      "  embed_model = OllamaEmbeddings(\n"
     ]
    },
    {
     "name": "stderr",
     "output_type": "stream",
     "text": [
      "/workspace/.pyenv_mirror/user/current/lib/python3.10/site-packages/langsmith/client.py:354: LangSmithMissingAPIKeyWarning: API key must be provided when using hosted LangSmith API\n",
      "  warnings.warn(\n",
      "Number of requested results 4 is greater than number of elements in index 3, updating n_results = 3\n"
     ]
    },
    {
     "name": "stdout",
     "output_type": "stream",
     "text": [
      "Coco and Mango are the two mischievous monkeys, and they live in a tropical rainforest.\n"
     ]
    }
   ],
   "source": [
    "import os\n",
    "from langchain_community.llms import Ollama\n",
    "from dotenv import load_dotenv\n",
    "from langchain_community.embeddings import OllamaEmbeddings\n",
    "from langchain.document_loaders import TextLoader\n",
    "from langchain.text_splitter import RecursiveCharacterTextSplitter\n",
    "from langchain.vectorstores import Chroma\n",
    "from langchain.chains import create_retrieval_chain\n",
    "from langchain import hub\n",
    "from langchain.chains.combine_documents import create_stuff_documents_chain\n",
    "\n",
    "llm = Ollama(model=\"llama3.1\", base_url=\"https://notre-chile-christine-affecting.trycloudflare.com\")\n",
    "\n",
    "embed_model = OllamaEmbeddings(\n",
    "    model=\"llama3.1\",\n",
    "    base_url='https://notre-chile-christine-affecting.trycloudflare.com'\n",
    ")\n",
    "\n",
    "text = \"\"\"\n",
    "    In the lush canopy of a tropical rainforest, two mischievous monkeys, Coco and Mango, swung from branch to branch, their playful antics echoing through the trees. They were inseparable companions, sharing everything from juicy fruits to secret hideouts high above the forest floor. One day, while exploring a new part of the forest, Coco stumbled upon a beautiful orchid hidden among the foliage. Entranced by its delicate petals, Coco plucked it and presented it to Mango with a wide grin. Overwhelmed by Coco's gesture of friendship, Mango hugged Coco tightly, cherishing the bond they shared. From that day on, Coco and Mango ventured through the forest together, their friendship growing stronger with each passing adventure. As they watched the sun dip below the horizon, casting a golden glow over the treetops, they knew that no matter what challenges lay ahead, they would always have each other, and their hearts brimmed with joy.\n",
    "    \"\"\"\n",
    "\n",
    "text_splitter = RecursiveCharacterTextSplitter(chunk_size=512, chunk_overlap=128)\n",
    "chunks = text_splitter.split_text(text)\n",
    "\n",
    "vector_store = Chroma.from_texts(chunks, embed_model)\n",
    "\n",
    "retriever = vector_store.as_retriever()\n",
    "\n",
    "chain = create_retrieval_chain(combine_docs_chain=llm,retriever=retriever)\n",
    "\n",
    "retrieval_qa_chat_prompt = hub.pull(\"langchain-ai/retrieval-qa-chat\")\n",
    "\n",
    "combine_docs_chain = create_stuff_documents_chain(\n",
    "    llm, retrieval_qa_chat_prompt\n",
    ")\n",
    "\n",
    "retrieval_chain = create_retrieval_chain(retriever, combine_docs_chain)    \n",
    "\n",
    "response = retrieval_chain.invoke({\"input\": \"Tell me name of monkeys and where do they live\"})\n",
    "print(response['answer'])"
   ]
  }
 ],
 "metadata": {
  "kernelspec": {
   "display_name": "Python 3",
   "language": "python",
   "name": "python3"
  },
  "language_info": {
   "codemirror_mode": {
    "name": "ipython",
    "version": 3
   },
   "file_extension": ".py",
   "mimetype": "text/x-python",
   "name": "python",
   "nbconvert_exporter": "python",
   "pygments_lexer": "ipython3",
   "version": "3.10.12"
  }
 },
 "nbformat": 4,
 "nbformat_minor": 2
}
